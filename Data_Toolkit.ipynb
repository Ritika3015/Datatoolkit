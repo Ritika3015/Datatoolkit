{
  "nbformat": 4,
  "nbformat_minor": 0,
  "metadata": {
    "colab": {
      "provenance": []
    },
    "kernelspec": {
      "name": "python3",
      "display_name": "Python 3"
    },
    "language_info": {
      "name": "python"
    }
  },
  "cells": [
    {
      "cell_type": "markdown",
      "source": [
        " #THEORY QUESTIONS\n",
        " 1) What is NumPy, and why is it widely used in Python?\n",
        "- NumPy stands for Numerical Python and is a foundational package for:\n",
        "- Efficient numerical computations\n",
        "- Handling large, multi-dimensional arrays and matrices\n",
        "- Performing complex mathematical operations\n",
        "\n",
        "It is built on C, making array operations extremely fast and memory efficient.\n",
        "\n",
        " 2) How does broadcasting work in NumPy?\n",
        "- Broadcasting is a powerful feature in NumPy that allows element-wise operations on arrays of different shapes and sizes — without the need for explicit loops or reshaping.\n",
        "\n",
        " 3) What is a Pandas DataFrame?\n",
        "- A DataFrame in Pandas is a two-dimensional, labeled data structure — similar to an Excel spreadsheet, SQL table, or a dictionary of Series objects.\n",
        "- It is the most commonly used object in Pandas for data analysis and manipulation.\n",
        "\n",
        " 4) Explain the use of the groupby() method in Pandas.\n",
        "- The groupby() method in Pandas is used to split a DataFrame into groups based on values in one or more columns, and then perform operations (like sum, mean, count, etc.) on each group.\n",
        "\n",
        "5) Why is Seaborn preferred for statistical visualizations?\n",
        "- Seaborn is a Python data visualization library built on top of Matplotlib and tightly integrated with Pandas. It is preferred for statistical visualizations because it offers:\n",
        "- 1. High-Level API\n",
        "- 2. Built-in Support for Statistical Plots\n",
        "- 3. Works Seamlessly with Pandas\n",
        "- 4. Attractive and Informative Plots\n",
        "- 5. Built-in Handling of Statistical Estimations\n",
        "- 6. Integration with Matplotlib\n",
        "\n",
        "6) What are the differences between NumPy arrays and Python lists?\n",
        "- NumPy arrays\n",
        "- Homogeneous (all elements must be of the same type)\n",
        "- Faster (written in C, optimized for numerical operations)\n",
        "- More memory-efficient (compact storage)\n",
        "- Supports advanced operations: slicing, vectorization, broadcasting.\n",
        "- Easily supports multi-dimensional arrays (2D, 3D, ...)\n",
        "- Element-wise operations directly supported\n",
        "- Integrated with scientific libraries (e.g., SciPy, Pandas, etc.)\n",
        "\n",
        "- Python lists\n",
        "- Heterogeneous (can store mixed types: int, str, float, etc.)\n",
        "- Slower for large-scale numerical computation.\n",
        "- Consumes more memory.\n",
        "- Limited functionality — no built-in math operations.\n",
        "- Requires loops or list comprehensions.\n",
        "- Not ideal for scientific computing.\n",
        "\n",
        "7) What is a heatmap, and when should it be used?\n",
        "- A heatmap is a data visualization technique that uses color to represent values in a matrix or 2D grid. It's a graphical representation of data where individual values are shown as color-coded cells.\n",
        "\n",
        "8) What does the term “vectorized operation” mean in NumPy?\n",
        "- A vectorized operation in NumPy refers to performing operations on entire arrays (vectors/matrices) without using explicit loops. These operations are applied element-wise and are implemented internally in compiled code (C), making them much faster than Python loops.\n",
        "\n",
        "9) How does Matplotlib differ from Plotly?\n",
        "- Matplotlib\n",
        "- Primarily static, 2D plots\n",
        "- Limited interactivity (zoom, pan via backends)\n",
        "- Lower-level, more control but more code needed\n",
        "- Static images (PNG, PDF, SVG)\n",
        "- Very customizable, manual control\n",
        "- Basic support via add-ons\n",
        "\n",
        "- Plotly\n",
        "- Interactive plots (2D, 3D, animations)\n",
        "- Highly interactive with tooltips, zoom, hover\n",
        "- Higher-level, simpler syntax for complex plots\n",
        "- Web-based interactive HTML outputs.\n",
        "- Customizable but optimized for interactivity.\n",
        "- Native, rich 3D plotting capabilities\n",
        "\n",
        "10) What is the significance of hierarchical indexing in Pandas?\n",
        "- Hierarchical indexing (also called MultiIndex) allows Pandas to have multiple levels of row or column labels in a DataFrame or Series. This means you can index and access data using more than one key — like a tree structure.\n",
        "\n",
        "11)  What is the role of Seaborn’s pairplot() function?\n",
        "- The pairplot() function in Seaborn is used to visualize pairwise relationships in a dataset by plotting scatterplots (or other plots) between all numerical variables, along with their distributions on the diagonal.\n",
        "\n",
        "12) What is the purpose of the describe() function in Pandas?\n",
        "- The describe() function is used to generate summary statistics of a DataFrame or Series. It provides a quick overview of the distribution and key statistics of numerical (and optionally categorical) data.\n",
        "\n",
        "13) Why is handling missing data important in Pandas?\n",
        "- Missing data (NaNs or null values) is very common in real-world datasets and can cause serious issues if not addressed properly. Handling missing data correctly ensures that your analysis and models are accurate and reliable.\n",
        "\n",
        "14) What are the benefits of using Plotly for data visualization?\n",
        "- Plotly is a powerful, modern Python library designed to create interactive, web-friendly visualizations.\n",
        "\n",
        "15) How does NumPy handle multidimensional arrays?\n",
        "- NumPy is designed to efficiently work with multidimensional arrays, also called ndarrays (n-dimensional arrays). These arrays can have any number of dimensions, from 1D (vectors) to 2D (matrices) and beyond.\n",
        "\n",
        "16) What is the role of Bokeh in data visualization?\n",
        "- Bokeh is a powerful Python library focused on creating interactive, web-ready visualizations. It’s designed to help users build complex, rich, and highly customizable plots easily, especially for web applications.\n",
        "\n",
        "17) Explain the difference between apply() and map() in Pandas.\n",
        "- apply()\n",
        "- Both Series and DataFrame (column-wise or row-wise)\n",
        "- Applies a function along an axis of DataFrame or to each element in a Series.\n",
        "- More general-purpose: apply any function, including complex row/column-wise operations.\n",
        "- Can take functions with multiple parameters and work on Series or DataFrame.\n",
        "- Slightly slower for element-wise operations compared to map()\n",
        "\n",
        "- map()\n",
        "- Only Series\n",
        "- Maps values in a Series according to a correspondence (dict, Series, or function)\n",
        "- Mainly used for element-wise substitution or mapping based on a dict or function.\n",
        "- Usually a dict, Series, or function applied element-wise.\n",
        "- Series with mapped values.\n",
        "- Faster for element-wise mapping or substitution\n",
        "\n",
        "18) What are some advanced features of NumPy?\n",
        "- Broadcasting: Enables arithmetic operations on arrays of different shapes by automatically expanding dimensions to match.\n",
        "- Fancy Indexing: Allows indexing with integer arrays or boolean masks to select arbitrary elements efficiently.\n",
        "- Structured Arrays / Record Arrays: Store heterogeneous data types in a single array, like columns in a table.\n",
        "- Memory Mapping: Use np.memmap to work with large files on disk without loading everything into RAM.\n",
        "- Universal Functions (ufuncs):\tVectorized functions that operate element-wise on arrays with high performance and support for broadcasting.\n",
        "- Linear Algebra Module:\tProvides optimized routines for matrix operations, decompositions, eigenvalues, etc.\n",
        "- Random Module:\tAdvanced random number generation, sampling from many distributions.\n",
        "- Masked Arrays:\tArrays that can mask invalid or missing data during computation.\n",
        "- FFT (Fast Fourier Transform):\tEfficient computation of discrete Fourier transforms and related operations.\n",
        "- Integration with C/Fortran:\tSupports calling external compiled code for performance-critical tasks.\n",
        "- Array Manipulation Tools:\tFunctions for reshaping, stacking, splitting, and manipulating multi-dimensional arrays.\n",
        "\n",
        "19) How does Pandas simplify time series analysis?\n",
        "- Datetime Indexing:\tSupports DatetimeIndex for indexing data by timestamps, enabling fast slicing and filtering by dates.\n",
        "- Date Range Generation\tFunctions like pd.date_range() create sequences of dates with custom frequency (daily, monthly, etc.).\n",
        "- Resampling & Frequency Conversion\tEasily resample data to different time frequencies (e.g., convert daily data to monthly averages) using .resample().\n",
        "- Time Shifts & Lagging\tUse .shift() to move data forward/backward in time to calculate differences or lags.\n",
        "- Rolling & Window Functions:\tCompute rolling statistics like moving averages with .rolling().\n",
        "- Time Zone Handling:\tSupports time zone localization and conversion (.tz_localize(), .tz_convert()).\n",
        "- Handling Missing Dates:\tAutomatically handles missing time points and reindexes time series accordingly.\n",
        "- Date/Time Components Extraction\tEasily extract parts of dates (year, month, day, weekday) with .dt accessor.\n",
        "- Plotting Time Series:\tBuilt-in support for plotting time-indexed data.\n",
        "\n",
        "20) What is the role of a pivot table in Pandas?\n",
        "- Aggregates data by grouping based on one or more keys (rows and columns).\n",
        "- Allows custom aggregation functions like sum, mean, count, etc.\n",
        "- Transforms data from long format to a summarized, wide format.\n",
        "- Makes it easy to compare data across multiple categories.\n",
        "\n",
        "21) Why is NumPy’s array slicing faster than Python’s list slicing?\n",
        "- NumPy arrays store data in contiguous blocks of memory, typically as a single typed array (e.g., all floats or ints)\n",
        "- Slicing returns a view on the original data, no copying of the actual data happens.\n",
        "- Homogeneous data allows efficient low-level optimizations and vectorized operations.\n",
        "- NumPy is implemented in C, so slicing uses fast, compiled code.\n",
        "\n",
        "- Python lists store references to objects scattered in memory (heterogeneous elements).\n",
        "- Slicing creates a new list by copying references, which involves more overhead.\n",
        "- Heterogeneous elements prevent such optimizations.\n",
        "- Python lists slicing is implemented in Python, slower due to interpreter overhead.\n",
        "\n",
        "22) What are some common use cases for Seaborn?\n",
        "- Exploratory Data Analysis (EDA):\tQuickly visualize data distributions, relationships, and patterns to understand the dataset.\n",
        "- Visualizing Statistical Relationships\tScatterplots, regression plots, and correlation heatmaps to explore relationships between variables.\n",
        "- Categorical Data Visualization\tBar plots, box plots, violin plots, and count plots for comparing groups or categories.\n",
        "- Distribution Visualization\tHistograms, KDE plots, and rug plots to examine data distribution and density.\n",
        "- Heatmaps for Correlations\tVisualizing correlation matrices or other matrix data with color gradients.\n",
        "- Pairwise Relationships\tUsing pairplot() to visualize pairwise relationships and distributions in a dataset.\n",
        "- Time Series Visualization\tLine plots with confidence intervals for trend analysis.\n",
        "- Faceted Plots\tUsing FacetGrid and catplot to create multi-plot grids by subsets of data, useful for comparing groups."
      ],
      "metadata": {
        "id": "PtbdlnVPd60t"
      }
    },
    {
      "cell_type": "code",
      "source": [
        "#PRACTICAL QUESTIONS\n",
        "#1)  How do you create a 2D NumPy array and calculate the sum of each row?\n",
        "import numpy as np\n",
        "arr=np.array([[1,2,3],[4,5,6],[7,8,9]])\n",
        "print(arr)\n",
        "print(np.sum(arr,axis=1))"
      ],
      "metadata": {
        "id": "iVZPnJe5dg3E",
        "colab": {
          "base_uri": "https://localhost:8080/"
        },
        "outputId": "001c0cbf-e14d-4da4-ae2b-1f308e2fd312"
      },
      "execution_count": 2,
      "outputs": [
        {
          "output_type": "stream",
          "name": "stdout",
          "text": [
            "[[1 2 3]\n",
            " [4 5 6]\n",
            " [7 8 9]]\n",
            "[ 6 15 24]\n"
          ]
        }
      ]
    },
    {
      "cell_type": "code",
      "source": [
        "#2)  Write a Pandas script to find the mean of a specific column in a DataFrame.\n",
        "import pandas as pd\n",
        "df=pd.DataFrame({'A':[1,2,3,4,5],'B':[6,7,8,9,10]})\n",
        "print(df)\n",
        "print(df['A'].mean())"
      ],
      "metadata": {
        "id": "1za6DeuKdg5v",
        "colab": {
          "base_uri": "https://localhost:8080/"
        },
        "outputId": "ba734cd7-651f-4f31-8d42-08009f4ad4e5"
      },
      "execution_count": 3,
      "outputs": [
        {
          "output_type": "stream",
          "name": "stdout",
          "text": [
            "   A   B\n",
            "0  1   6\n",
            "1  2   7\n",
            "2  3   8\n",
            "3  4   9\n",
            "4  5  10\n",
            "3.0\n"
          ]
        }
      ]
    },
    {
      "cell_type": "code",
      "source": [
        "#3) Create a scatter plot using Matplotlib.\n",
        "import matplotlib.pyplot as plt\n",
        "x=[1,2,3,4,5]\n",
        "y=[6,7,8,9,10]\n",
        "plt.scatter(x,y)\n",
        "plt.show()\n",
        "\n"
      ],
      "metadata": {
        "id": "b75pKUKkdg8d",
        "colab": {
          "base_uri": "https://localhost:8080/",
          "height": 430
        },
        "outputId": "e6027450-4038-40c5-eff0-4a3849099253"
      },
      "execution_count": 4,
      "outputs": [
        {
          "output_type": "display_data",
          "data": {
            "text/plain": [
              "<Figure size 640x480 with 1 Axes>"
            ],
            "image/png": "[encoded data removed]"
          },
          "metadata": {}
        }
      ]
    },
    {
      "cell_type": "code",
      "source": [
        "#4) How do you calculate the correlation matrix using Seaborn and visualize it with a heatmap?\n",
        "import seaborn as sns\n",
        "df=pd.DataFrame({'A':[1,2,3,4,5],'B':[6,7,8,9,10]})\n",
        "corr=df.corr()\n",
        "sns.heatmap(corr,annot=True)\n",
        "plt.show()\n"
      ],
      "metadata": {
        "id": "kB766lGndg-p",
        "colab": {
          "base_uri": "https://localhost:8080/",
          "height": 435
        },
        "outputId": "ff197e17-c3ad-4a15-ad50-e470851b64b3"
      },
      "execution_count": 5,
      "outputs": [
        {
          "output_type": "display_data",
          "data": {
            "text/plain": [
              "<Figure size 640x480 with 2 Axes>"
            ],
            "image/png": "[encoded data removed]"
          },
          "metadata": {}
        }
      ]
    },
    {
      "cell_type": "code",
      "source": [
        "#5) Generate a bar plot using Plotly.\n",
        "import plotly.express as px\n",
        "df=pd.DataFrame({'A':[1,2,3,4,5],'B':[6,7,8,9,10]})\n",
        "fig=px.bar(df,x='A',y='B')\n",
        "fig.show()"
      ],
      "metadata": {
        "id": "yWk-zx4ldhBA",
        "colab": {
          "base_uri": "https://localhost:8080/",
          "height": 542
        },
        "outputId": "4cb76c53-9817-453e-f26c-6b1cfe9f7d99"
      },
      "execution_count": 6,
      "outputs": [
        {
          "output_type": "display_data",
          "data": {
            "text/html": [
              "<html>\n",
              "<head><meta charset=\"utf-8\" /></head>\n",
              "<body>\n",
              "    <div>            <script src=\"https://cdnjs.cloudflare.com/ajax/libs/mathjax/2.7.5/MathJax.js?config=TeX-AMS-MML_SVG\"></script><script type=\"text/javascript\">if (window.MathJax && window.MathJax.Hub && window.MathJax.Hub.Config) {window.MathJax.Hub.Config({SVG: {font: \"STIX-Web\"}});}</script>                <script type=\"text/javascript\">window.PlotlyConfig = {MathJaxConfig: 'local'};</script>\n",
              "        <script charset=\"utf-8\" src=\"https://cdn.plot.ly/plotly-2.35.2.min.js\"></script>                <div id=\"4731ee23-8b70-491e-b86a-84eb0767b92d\" class=\"plotly-graph-div\" style=\"height:525px; width:100%;\"></div>            <script type=\"text/javascript\">                                    window.PLOTLYENV=window.PLOTLYENV || {};                                    if (document.getElementById(\"4731ee23-8b70-491e-b86a-84eb0767b92d\")) {                    Plotly.newPlot(                        \"4731ee23-8b70-491e-b86a-84eb0767b92d\",                        [{\"alignmentgroup\":\"True\",\"hovertemplate\":\"A=%{x}\\u003cbr\\u003eB=%{y}\\u003cextra\\u003e\\u003c\\u002fextra\\u003e\",\"legendgroup\":\"\",\"marker\":{\"color\":\"#636efa\",\"pattern\":{\"shape\":\"\"}},\"name\":\"\",\"offsetgroup\":\"\",\"orientation\":\"v\",\"showlegend\":false,\"textposition\":\"auto\",\"x\":[1,2,3,4,5],\"xaxis\":\"x\",\"y\":[6,7,8,9,10],\"yaxis\":\"y\",\"type\":\"bar\"}],                        {\"template\":{\"data\":{\"histogram2dcontour\":[{\"type\":\"histogram2dcontour\",\"colorbar\":{\"outlinewidth\":0,\"ticks\":\"\"},\"colorscale\":[[0.0,\"#0d0887\"],[0.1111111111111111,\"#46039f\"],[0.2222222222222222,\"#7201a8\"],[0.3333333333333333,\"#9c179e\"],[0.4444444444444444,\"#bd3786\"],[0.5555555555555556,\"#d8576b\"],[0.6666666666666666,\"#ed7953\"],[0.7777777777777778,\"#fb9f3a\"],[0.8888888888888888,\"#fdca26\"],[1.0,\"#f0f921\"]]}],\"choropleth\":[{\"type\":\"choropleth\",\"colorbar\":{\"outlinewidth\":0,\"ticks\":\"\"}}],\"histogram2d\":[{\"type\":\"histogram2d\",\"colorbar\":{\"outlinewidth\":0,\"ticks\":\"\"},\"colorscale\":[[0.0,\"#0d0887\"],[0.1111111111111111,\"#46039f\"],[0.2222222222222222,\"#7201a8\"],[0.3333333333333333,\"#9c179e\"],[0.4444444444444444,\"#bd3786\"],[0.5555555555555556,\"#d8576b\"],[0.6666666666666666,\"#ed7953\"],[0.7777777777777778,\"#fb9f3a\"],[0.8888888888888888,\"#fdca26\"],[1.0,\"#f0f921\"]]}],\"heatmap\":[{\"type\":\"heatmap\",\"colorbar\":{\"outlinewidth\":0,\"ticks\":\"\"},\"colorscale\":[[0.0,\"#0d0887\"],[0.1111111111111111,\"#46039f\"],[0.2222222222222222,\"#7201a8\"],[0.3333333333333333,\"#9c179e\"],[0.4444444444444444,\"#bd3786\"],[0.5555555555555556,\"#d8576b\"],[0.6666666666666666,\"#ed7953\"],[0.7777777777777778,\"#fb9f3a\"],[0.8888888888888888,\"#fdca26\"],[1.0,\"#f0f921\"]]}],\"heatmapgl\":[{\"type\":\"heatmapgl\",\"colorbar\":{\"outlinewidth\":0,\"ticks\":\"\"},\"colorscale\":[[0.0,\"#0d0887\"],[0.1111111111111111,\"#46039f\"],[0.2222222222222222,\"#7201a8\"],[0.3333333333333333,\"#9c179e\"],[0.4444444444444444,\"#bd3786\"],[0.5555555555555556,\"#d8576b\"],[0.6666666666666666,\"#ed7953\"],[0.7777777777777778,\"#fb9f3a\"],[0.8888888888888888,\"#fdca26\"],[1.0,\"#f0f921\"]]}],\"contourcarpet\":[{\"type\":\"contourcarpet\",\"colorbar\":{\"outlinewidth\":0,\"ticks\":\"\"}}],\"contour\":[{\"type\":\"contour\",\"colorbar\":{\"outlinewidth\":0,\"ticks\":\"\"},\"colorscale\":[[0.0,\"#0d0887\"],[0.1111111111111111,\"#46039f\"],[0.2222222222222222,\"#7201a8\"],[0.3333333333333333,\"#9c179e\"],[0.4444444444444444,\"#bd3786\"],[0.5555555555555556,\"#d8576b\"],[0.6666666666666666,\"#ed7953\"],[0.7777777777777778,\"#fb9f3a\"],[0.8888888888888888,\"#fdca26\"],[1.0,\"#f0f921\"]]}],\"surface\":[{\"type\":\"surface\",\"colorbar\":{\"outlinewidth\":0,\"ticks\":\"\"},\"colorscale\":[[0.0,\"#0d0887\"],[0.1111111111111111,\"#46039f\"],[0.2222222222222222,\"#7201a8\"],[0.3333333333333333,\"#9c179e\"],[0.4444444444444444,\"#bd3786\"],[0.5555555555555556,\"#d8576b\"],[0.6666666666666666,\"#ed7953\"],[0.7777777777777778,\"#fb9f3a\"],[0.8888888888888888,\"#fdca26\"],[1.0,\"#f0f921\"]]}],\"mesh3d\":[{\"type\":\"mesh3d\",\"colorbar\":{\"outlinewidth\":0,\"ticks\":\"\"}}],\"scatter\":[{\"fillpattern\":{\"fillmode\":\"overlay\",\"size\":10,\"solidity\":0.2},\"type\":\"scatter\"}],\"parcoords\":[{\"type\":\"parcoords\",\"line\":{\"colorbar\":{\"outlinewidth\":0,\"ticks\":\"\"}}}],\"scatterpolargl\":[{\"type\":\"scatterpolargl\",\"marker\":{\"colorbar\":{\"outlinewidth\":0,\"ticks\":\"\"}}}],\"bar\":[{\"error_x\":{\"color\":\"#2a3f5f\"},\"error_y\":{\"color\":\"#2a3f5f\"},\"marker\":{\"line\":{\"color\":\"#E5ECF6\",\"width\":0.5},\"pattern\":{\"fillmode\":\"overlay\",\"size\":10,\"solidity\":0.2}},\"type\":\"bar\"}],\"scattergeo\":[{\"type\":\"scattergeo\",\"marker\":{\"colorbar\":{\"outlinewidth\":0,\"ticks\":\"\"}}}],\"scatterpolar\":[{\"type\":\"scatterpolar\",\"marker\":{\"colorbar\":{\"outlinewidth\":0,\"ticks\":\"\"}}}],\"histogram\":[{\"marker\":{\"pattern\":{\"fillmode\":\"overlay\",\"size\":10,\"solidity\":0.2}},\"type\":\"histogram\"}],\"scattergl\":[{\"type\":\"scattergl\",\"marker\":{\"colorbar\":{\"outlinewidth\":0,\"ticks\":\"\"}}}],\"scatter3d\":[{\"type\":\"scatter3d\",\"line\":{\"colorbar\":{\"outlinewidth\":0,\"ticks\":\"\"}},\"marker\":{\"colorbar\":{\"outlinewidth\":0,\"ticks\":\"\"}}}],\"scattermapbox\":[{\"type\":\"scattermapbox\",\"marker\":{\"colorbar\":{\"outlinewidth\":0,\"ticks\":\"\"}}}],\"scatterternary\":[{\"type\":\"scatterternary\",\"marker\":{\"colorbar\":{\"outlinewidth\":0,\"ticks\":\"\"}}}],\"scattercarpet\":[{\"type\":\"scattercarpet\",\"marker\":{\"colorbar\":{\"outlinewidth\":0,\"ticks\":\"\"}}}],\"carpet\":[{\"aaxis\":{\"endlinecolor\":\"#2a3f5f\",\"gridcolor\":\"white\",\"linecolor\":\"white\",\"minorgridcolor\":\"white\",\"startlinecolor\":\"#2a3f5f\"},\"baxis\":{\"endlinecolor\":\"#2a3f5f\",\"gridcolor\":\"white\",\"linecolor\":\"white\",\"minorgridcolor\":\"white\",\"startlinecolor\":\"#2a3f5f\"},\"type\":\"carpet\"}],\"table\":[{\"cells\":{\"fill\":{\"color\":\"#EBF0F8\"},\"line\":{\"color\":\"white\"}},\"header\":{\"fill\":{\"color\":\"#C8D4E3\"},\"line\":{\"color\":\"white\"}},\"type\":\"table\"}],\"barpolar\":[{\"marker\":{\"line\":{\"color\":\"#E5ECF6\",\"width\":0.5},\"pattern\":{\"fillmode\":\"overlay\",\"size\":10,\"solidity\":0.2}},\"type\":\"barpolar\"}],\"pie\":[{\"automargin\":true,\"type\":\"pie\"}]},\"layout\":{\"autotypenumbers\":\"strict\",\"colorway\":[\"#636efa\",\"#EF553B\",\"#00cc96\",\"#ab63fa\",\"#FFA15A\",\"#19d3f3\",\"#FF6692\",\"#B6E880\",\"#FF97FF\",\"#FECB52\"],\"font\":{\"color\":\"#2a3f5f\"},\"hovermode\":\"closest\",\"hoverlabel\":{\"align\":\"left\"},\"paper_bgcolor\":\"white\",\"plot_bgcolor\":\"#E5ECF6\",\"polar\":{\"bgcolor\":\"#E5ECF6\",\"angularaxis\":{\"gridcolor\":\"white\",\"linecolor\":\"white\",\"ticks\":\"\"},\"radialaxis\":{\"gridcolor\":\"white\",\"linecolor\":\"white\",\"ticks\":\"\"}},\"ternary\":{\"bgcolor\":\"#E5ECF6\",\"aaxis\":{\"gridcolor\":\"white\",\"linecolor\":\"white\",\"ticks\":\"\"},\"baxis\":{\"gridcolor\":\"white\",\"linecolor\":\"white\",\"ticks\":\"\"},\"caxis\":{\"gridcolor\":\"white\",\"linecolor\":\"white\",\"ticks\":\"\"}},\"coloraxis\":{\"colorbar\":{\"outlinewidth\":0,\"ticks\":\"\"}},\"colorscale\":{\"sequential\":[[0.0,\"#0d0887\"],[0.1111111111111111,\"#46039f\"],[0.2222222222222222,\"#7201a8\"],[0.3333333333333333,\"#9c179e\"],[0.4444444444444444,\"#bd3786\"],[0.5555555555555556,\"#d8576b\"],[0.6666666666666666,\"#ed7953\"],[0.7777777777777778,\"#fb9f3a\"],[0.8888888888888888,\"#fdca26\"],[1.0,\"#f0f921\"]],\"sequentialminus\":[[0.0,\"#0d0887\"],[0.1111111111111111,\"#46039f\"],[0.2222222222222222,\"#7201a8\"],[0.3333333333333333,\"#9c179e\"],[0.4444444444444444,\"#bd3786\"],[0.5555555555555556,\"#d8576b\"],[0.6666666666666666,\"#ed7953\"],[0.7777777777777778,\"#fb9f3a\"],[0.8888888888888888,\"#fdca26\"],[1.0,\"#f0f921\"]],\"diverging\":[[0,\"#8e0152\"],[0.1,\"#c51b7d\"],[0.2,\"#de77ae\"],[0.3,\"#f1b6da\"],[0.4,\"#fde0ef\"],[0.5,\"#f7f7f7\"],[0.6,\"#e6f5d0\"],[0.7,\"#b8e186\"],[0.8,\"#7fbc41\"],[0.9,\"#4d9221\"],[1,\"#276419\"]]},\"xaxis\":{\"gridcolor\":\"white\",\"linecolor\":\"white\",\"ticks\":\"\",\"title\":{\"standoff\":15},\"zerolinecolor\":\"white\",\"automargin\":true,\"zerolinewidth\":2},\"yaxis\":{\"gridcolor\":\"white\",\"linecolor\":\"white\",\"ticks\":\"\",\"title\":{\"standoff\":15},\"zerolinecolor\":\"white\",\"automargin\":true,\"zerolinewidth\":2},\"scene\":{\"xaxis\":{\"backgroundcolor\":\"#E5ECF6\",\"gridcolor\":\"white\",\"linecolor\":\"white\",\"showbackground\":true,\"ticks\":\"\",\"zerolinecolor\":\"white\",\"gridwidth\":2},\"yaxis\":{\"backgroundcolor\":\"#E5ECF6\",\"gridcolor\":\"white\",\"linecolor\":\"white\",\"showbackground\":true,\"ticks\":\"\",\"zerolinecolor\":\"white\",\"gridwidth\":2},\"zaxis\":{\"backgroundcolor\":\"#E5ECF6\",\"gridcolor\":\"white\",\"linecolor\":\"white\",\"showbackground\":true,\"ticks\":\"\",\"zerolinecolor\":\"white\",\"gridwidth\":2}},\"shapedefaults\":{\"line\":{\"color\":\"#2a3f5f\"}},\"annotationdefaults\":{\"arrowcolor\":\"#2a3f5f\",\"arrowhead\":0,\"arrowwidth\":1},\"geo\":{\"bgcolor\":\"white\",\"landcolor\":\"#E5ECF6\",\"subunitcolor\":\"white\",\"showland\":true,\"showlakes\":true,\"lakecolor\":\"white\"},\"title\":{\"x\":0.05},\"mapbox\":{\"style\":\"light\"}}},\"xaxis\":{\"anchor\":\"y\",\"domain\":[0.0,1.0],\"title\":{\"text\":\"A\"}},\"yaxis\":{\"anchor\":\"x\",\"domain\":[0.0,1.0],\"title\":{\"text\":\"B\"}},\"legend\":{\"tracegroupgap\":0},\"margin\":{\"t\":60},\"barmode\":\"relative\"},                        {\"responsive\": true}                    ).then(function(){\n",
              "                            \n",
              "var gd = document.getElementById('4731ee23-8b70-491e-b86a-84eb0767b92d');\n",
              "var x = new MutationObserver(function (mutations, observer) {{\n",
              "        var display = window.getComputedStyle(gd).display;\n",
              "        if (!display || display === 'none') {{\n",
              "            console.log([gd, 'removed!']);\n",
              "            Plotly.purge(gd);\n",
              "            observer.disconnect();\n",
              "        }}\n",
              "}});\n",
              "\n",
              "// Listen for the removal of the full notebook cells\n",
              "var notebookContainer = gd.closest('#notebook-container');\n",
              "if (notebookContainer) {{\n",
              "    x.observe(notebookContainer, {childList: true});\n",
              "}}\n",
              "\n",
              "// Listen for the clearing of the current output cell\n",
              "var outputEl = gd.closest('.output');\n",
              "if (outputEl) {{\n",
              "    x.observe(outputEl, {childList: true});\n",
              "}}\n",
              "\n",
              "                        })                };                            </script>        </div>\n",
              "</body>\n",
              "</html>"
            ]
          },
          "metadata": {}
        }
      ]
    },
    {
      "cell_type": "code",
      "source": [
        "#6) Create a DataFrame and add a new column based on an existing column.\n",
        "df=pd.DataFrame({'A':[1,2,3,4,5],'B':[6,7,8,9,10]})\n",
        "df['C']=df['A']+df['B']\n",
        "print(df)\n"
      ],
      "metadata": {
        "id": "8iFB2UZNdhDa",
        "colab": {
          "base_uri": "https://localhost:8080/"
        },
        "outputId": "2929d638-2674-4c3e-9ab4-e0c2c54945db"
      },
      "execution_count": 7,
      "outputs": [
        {
          "output_type": "stream",
          "name": "stdout",
          "text": [
            "   A   B   C\n",
            "0  1   6   7\n",
            "1  2   7   9\n",
            "2  3   8  11\n",
            "3  4   9  13\n",
            "4  5  10  15\n"
          ]
        }
      ]
    },
    {
      "cell_type": "code",
      "source": [
        "#7) Write a program to perform element-wise multiplication of two NumPy arrays.\n",
        "a=np.array([1,2,3,4,5])\n",
        "b=np.array([6,7,8,9,10])\n",
        "print(a*b)\n"
      ],
      "metadata": {
        "id": "fpPmbqFIdhGh",
        "colab": {
          "base_uri": "https://localhost:8080/"
        },
        "outputId": "d31b7c18-6bac-4613-ea00-3ff8a0568f97"
      },
      "execution_count": 8,
      "outputs": [
        {
          "output_type": "stream",
          "name": "stdout",
          "text": [
            "[ 6 14 24 36 50]\n"
          ]
        }
      ]
    },
    {
      "cell_type": "code",
      "source": [
        "#8) Create a line plot with multiple lines using Matplotlib.\n",
        "x=[1,2,3,4,5]\n",
        "y=[6,7,8,9,10]\n",
        "plt.plot(x,y)\n",
        "plt.show()\n"
      ],
      "metadata": {
        "id": "suDs7QhOdhIx",
        "colab": {
          "base_uri": "https://localhost:8080/",
          "height": 430
        },
        "outputId": "928c54ac-0bc8-4c1d-9021-8bf351baa8f8"
      },
      "execution_count": 9,
      "outputs": [
        {
          "output_type": "display_data",
          "data": {
            "text/plain": [
              "<Figure size 640x480 with 1 Axes>"
            ],
            "image/png": "[encoded data removed]"
          },
          "metadata": {}
        }
      ]
    },
    {
      "cell_type": "code",
      "source": [
        "#9) Generate a Pandas DataFrame and filter rows where a column value is greater than a threshold.\n",
        "df=pd.DataFrame({'A':[1,2,3,4,5],'B':[6,7,8,9,10]})\n",
        "print(df[df['A']>2])\n"
      ],
      "metadata": {
        "id": "OH-73q0odhLM",
        "colab": {
          "base_uri": "https://localhost:8080/"
        },
        "outputId": "0263eb0b-d17d-482e-b281-a17f4fc8a63e"
      },
      "execution_count": 10,
      "outputs": [
        {
          "output_type": "stream",
          "name": "stdout",
          "text": [
            "   A   B\n",
            "2  3   8\n",
            "3  4   9\n",
            "4  5  10\n"
          ]
        }
      ]
    },
    {
      "cell_type": "code",
      "source": [
        "#10) Create a histogram using Seaborn to visualize a distribution.\n",
        "sns.histplot(df['A'])\n",
        "plt.show()\n"
      ],
      "metadata": {
        "id": "S5sgcMz-dhNn",
        "colab": {
          "base_uri": "https://localhost:8080/",
          "height": 449
        },
        "outputId": "7dca5018-c051-4b95-ee9e-c3de168e7f07"
      },
      "execution_count": 11,
      "outputs": [
        {
          "output_type": "display_data",
          "data": {
            "text/plain": [
              "<Figure size 640x480 with 1 Axes>"
            ],
            "image/png": "[encoded data removed]"
          },
          "metadata": {}
        }
      ]
    },
    {
      "cell_type": "code",
      "source": [
        "#11) Perform matrix multiplication using NumPy.\n",
        "a=np.array([[1,2],[3,4]])\n",
        "b=np.array([[5,6],[7,8]])\n",
        "print(np.dot(a,b))\n"
      ],
      "metadata": {
        "id": "ox1Vu9t2dhP-",
        "colab": {
          "base_uri": "https://localhost:8080/"
        },
        "outputId": "b7015c08-8a2d-4e1f-89e0-5df58e297b88"
      },
      "execution_count": 12,
      "outputs": [
        {
          "output_type": "stream",
          "name": "stdout",
          "text": [
            "[[19 22]\n",
            " [43 50]]\n"
          ]
        }
      ]
    },
    {
      "cell_type": "code",
      "source": [
        "#12) Use Pandas to load a CSV file and display its first 5 rows.\n",
        "df=pd.read_csv('personality_test.csv')\n",
        "print(df.head())\n"
      ],
      "metadata": {
        "id": "eATMylALdhSk",
        "colab": {
          "base_uri": "https://localhost:8080/"
        },
        "outputId": "fddac41c-a0a8-4ee1-a9cd-b2a0877b251e"
      },
      "execution_count": 16,
      "outputs": [
        {
          "output_type": "stream",
          "name": "stdout",
          "text": [
            "   Time_spent_Alone Stage_fear  Social_event_attendance  Going_outside  \\\n",
            "0               4.0         No                      4.0            6.0   \n",
            "1               9.0        Yes                      0.0            0.0   \n",
            "2               9.0        Yes                      1.0            2.0   \n",
            "3               0.0         No                      6.0            7.0   \n",
            "4               3.0         No                      9.0            4.0   \n",
            "\n",
            "  Drained_after_socializing  Friends_circle_size  Post_frequency Personality  \n",
            "0                        No                 13.0             5.0   Extrovert  \n",
            "1                       Yes                  0.0             3.0   Introvert  \n",
            "2                       Yes                  5.0             2.0   Introvert  \n",
            "3                        No                 14.0             8.0   Extrovert  \n",
            "4                        No                  8.0             5.0   Extrovert  \n"
          ]
        }
      ]
    },
    {
      "cell_type": "code",
      "source": [
        "#13) Create a 3D scatter plot using Plotly.\n",
        "import plotly.graph_objects as go\n",
        "x=[1,2,3,4,5]\n",
        "y=[6,7,8,9,10]\n",
        "z=[11,12,13,14,15]\n",
        "fig=go.Figure(data=[go.Scatter3d(x=x,y=y,z=z,mode='markers')])\n",
        "fig.show()\n"
      ],
      "metadata": {
        "id": "bkaiqtbCdhV7",
        "colab": {
          "base_uri": "https://localhost:8080/",
          "height": 542
        },
        "outputId": "176f0602-b1d8-46e2-8b43-33ce1407b79c"
      },
      "execution_count": 15,
      "outputs": [
        {
          "output_type": "display_data",
          "data": {
            "text/html": [
              "<html>\n",
              "<head><meta charset=\"utf-8\" /></head>\n",
              "<body>\n",
              "    <div>            <script src=\"https://cdnjs.cloudflare.com/ajax/libs/mathjax/2.7.5/MathJax.js?config=TeX-AMS-MML_SVG\"></script><script type=\"text/javascript\">if (window.MathJax && window.MathJax.Hub && window.MathJax.Hub.Config) {window.MathJax.Hub.Config({SVG: {font: \"STIX-Web\"}});}</script>                <script type=\"text/javascript\">window.PlotlyConfig = {MathJaxConfig: 'local'};</script>\n",
              "        <script charset=\"utf-8\" src=\"https://cdn.plot.ly/plotly-2.35.2.min.js\"></script>                <div id=\"963201e6-d523-402b-85c0-982224abf8fd\" class=\"plotly-graph-div\" style=\"height:525px; width:100%;\"></div>            <script type=\"text/javascript\">                                    window.PLOTLYENV=window.PLOTLYENV || {};                                    if (document.getElementById(\"963201e6-d523-402b-85c0-982224abf8fd\")) {                    Plotly.newPlot(                        \"963201e6-d523-402b-85c0-982224abf8fd\",                        [{\"mode\":\"markers\",\"x\":[1,2,3,4,5],\"y\":[6,7,8,9,10],\"z\":[11,12,13,14,15],\"type\":\"scatter3d\"}],                        {\"template\":{\"data\":{\"histogram2dcontour\":[{\"type\":\"histogram2dcontour\",\"colorbar\":{\"outlinewidth\":0,\"ticks\":\"\"},\"colorscale\":[[0.0,\"#0d0887\"],[0.1111111111111111,\"#46039f\"],[0.2222222222222222,\"#7201a8\"],[0.3333333333333333,\"#9c179e\"],[0.4444444444444444,\"#bd3786\"],[0.5555555555555556,\"#d8576b\"],[0.6666666666666666,\"#ed7953\"],[0.7777777777777778,\"#fb9f3a\"],[0.8888888888888888,\"#fdca26\"],[1.0,\"#f0f921\"]]}],\"choropleth\":[{\"type\":\"choropleth\",\"colorbar\":{\"outlinewidth\":0,\"ticks\":\"\"}}],\"histogram2d\":[{\"type\":\"histogram2d\",\"colorbar\":{\"outlinewidth\":0,\"ticks\":\"\"},\"colorscale\":[[0.0,\"#0d0887\"],[0.1111111111111111,\"#46039f\"],[0.2222222222222222,\"#7201a8\"],[0.3333333333333333,\"#9c179e\"],[0.4444444444444444,\"#bd3786\"],[0.5555555555555556,\"#d8576b\"],[0.6666666666666666,\"#ed7953\"],[0.7777777777777778,\"#fb9f3a\"],[0.8888888888888888,\"#fdca26\"],[1.0,\"#f0f921\"]]}],\"heatmap\":[{\"type\":\"heatmap\",\"colorbar\":{\"outlinewidth\":0,\"ticks\":\"\"},\"colorscale\":[[0.0,\"#0d0887\"],[0.1111111111111111,\"#46039f\"],[0.2222222222222222,\"#7201a8\"],[0.3333333333333333,\"#9c179e\"],[0.4444444444444444,\"#bd3786\"],[0.5555555555555556,\"#d8576b\"],[0.6666666666666666,\"#ed7953\"],[0.7777777777777778,\"#fb9f3a\"],[0.8888888888888888,\"#fdca26\"],[1.0,\"#f0f921\"]]}],\"heatmapgl\":[{\"type\":\"heatmapgl\",\"colorbar\":{\"outlinewidth\":0,\"ticks\":\"\"},\"colorscale\":[[0.0,\"#0d0887\"],[0.1111111111111111,\"#46039f\"],[0.2222222222222222,\"#7201a8\"],[0.3333333333333333,\"#9c179e\"],[0.4444444444444444,\"#bd3786\"],[0.5555555555555556,\"#d8576b\"],[0.6666666666666666,\"#ed7953\"],[0.7777777777777778,\"#fb9f3a\"],[0.8888888888888888,\"#fdca26\"],[1.0,\"#f0f921\"]]}],\"contourcarpet\":[{\"type\":\"contourcarpet\",\"colorbar\":{\"outlinewidth\":0,\"ticks\":\"\"}}],\"contour\":[{\"type\":\"contour\",\"colorbar\":{\"outlinewidth\":0,\"ticks\":\"\"},\"colorscale\":[[0.0,\"#0d0887\"],[0.1111111111111111,\"#46039f\"],[0.2222222222222222,\"#7201a8\"],[0.3333333333333333,\"#9c179e\"],[0.4444444444444444,\"#bd3786\"],[0.5555555555555556,\"#d8576b\"],[0.6666666666666666,\"#ed7953\"],[0.7777777777777778,\"#fb9f3a\"],[0.8888888888888888,\"#fdca26\"],[1.0,\"#f0f921\"]]}],\"surface\":[{\"type\":\"surface\",\"colorbar\":{\"outlinewidth\":0,\"ticks\":\"\"},\"colorscale\":[[0.0,\"#0d0887\"],[0.1111111111111111,\"#46039f\"],[0.2222222222222222,\"#7201a8\"],[0.3333333333333333,\"#9c179e\"],[0.4444444444444444,\"#bd3786\"],[0.5555555555555556,\"#d8576b\"],[0.6666666666666666,\"#ed7953\"],[0.7777777777777778,\"#fb9f3a\"],[0.8888888888888888,\"#fdca26\"],[1.0,\"#f0f921\"]]}],\"mesh3d\":[{\"type\":\"mesh3d\",\"colorbar\":{\"outlinewidth\":0,\"ticks\":\"\"}}],\"scatter\":[{\"fillpattern\":{\"fillmode\":\"overlay\",\"size\":10,\"solidity\":0.2},\"type\":\"scatter\"}],\"parcoords\":[{\"type\":\"parcoords\",\"line\":{\"colorbar\":{\"outlinewidth\":0,\"ticks\":\"\"}}}],\"scatterpolargl\":[{\"type\":\"scatterpolargl\",\"marker\":{\"colorbar\":{\"outlinewidth\":0,\"ticks\":\"\"}}}],\"bar\":[{\"error_x\":{\"color\":\"#2a3f5f\"},\"error_y\":{\"color\":\"#2a3f5f\"},\"marker\":{\"line\":{\"color\":\"#E5ECF6\",\"width\":0.5},\"pattern\":{\"fillmode\":\"overlay\",\"size\":10,\"solidity\":0.2}},\"type\":\"bar\"}],\"scattergeo\":[{\"type\":\"scattergeo\",\"marker\":{\"colorbar\":{\"outlinewidth\":0,\"ticks\":\"\"}}}],\"scatterpolar\":[{\"type\":\"scatterpolar\",\"marker\":{\"colorbar\":{\"outlinewidth\":0,\"ticks\":\"\"}}}],\"histogram\":[{\"marker\":{\"pattern\":{\"fillmode\":\"overlay\",\"size\":10,\"solidity\":0.2}},\"type\":\"histogram\"}],\"scattergl\":[{\"type\":\"scattergl\",\"marker\":{\"colorbar\":{\"outlinewidth\":0,\"ticks\":\"\"}}}],\"scatter3d\":[{\"type\":\"scatter3d\",\"line\":{\"colorbar\":{\"outlinewidth\":0,\"ticks\":\"\"}},\"marker\":{\"colorbar\":{\"outlinewidth\":0,\"ticks\":\"\"}}}],\"scattermapbox\":[{\"type\":\"scattermapbox\",\"marker\":{\"colorbar\":{\"outlinewidth\":0,\"ticks\":\"\"}}}],\"scatterternary\":[{\"type\":\"scatterternary\",\"marker\":{\"colorbar\":{\"outlinewidth\":0,\"ticks\":\"\"}}}],\"scattercarpet\":[{\"type\":\"scattercarpet\",\"marker\":{\"colorbar\":{\"outlinewidth\":0,\"ticks\":\"\"}}}],\"carpet\":[{\"aaxis\":{\"endlinecolor\":\"#2a3f5f\",\"gridcolor\":\"white\",\"linecolor\":\"white\",\"minorgridcolor\":\"white\",\"startlinecolor\":\"#2a3f5f\"},\"baxis\":{\"endlinecolor\":\"#2a3f5f\",\"gridcolor\":\"white\",\"linecolor\":\"white\",\"minorgridcolor\":\"white\",\"startlinecolor\":\"#2a3f5f\"},\"type\":\"carpet\"}],\"table\":[{\"cells\":{\"fill\":{\"color\":\"#EBF0F8\"},\"line\":{\"color\":\"white\"}},\"header\":{\"fill\":{\"color\":\"#C8D4E3\"},\"line\":{\"color\":\"white\"}},\"type\":\"table\"}],\"barpolar\":[{\"marker\":{\"line\":{\"color\":\"#E5ECF6\",\"width\":0.5},\"pattern\":{\"fillmode\":\"overlay\",\"size\":10,\"solidity\":0.2}},\"type\":\"barpolar\"}],\"pie\":[{\"automargin\":true,\"type\":\"pie\"}]},\"layout\":{\"autotypenumbers\":\"strict\",\"colorway\":[\"#636efa\",\"#EF553B\",\"#00cc96\",\"#ab63fa\",\"#FFA15A\",\"#19d3f3\",\"#FF6692\",\"#B6E880\",\"#FF97FF\",\"#FECB52\"],\"font\":{\"color\":\"#2a3f5f\"},\"hovermode\":\"closest\",\"hoverlabel\":{\"align\":\"left\"},\"paper_bgcolor\":\"white\",\"plot_bgcolor\":\"#E5ECF6\",\"polar\":{\"bgcolor\":\"#E5ECF6\",\"angularaxis\":{\"gridcolor\":\"white\",\"linecolor\":\"white\",\"ticks\":\"\"},\"radialaxis\":{\"gridcolor\":\"white\",\"linecolor\":\"white\",\"ticks\":\"\"}},\"ternary\":{\"bgcolor\":\"#E5ECF6\",\"aaxis\":{\"gridcolor\":\"white\",\"linecolor\":\"white\",\"ticks\":\"\"},\"baxis\":{\"gridcolor\":\"white\",\"linecolor\":\"white\",\"ticks\":\"\"},\"caxis\":{\"gridcolor\":\"white\",\"linecolor\":\"white\",\"ticks\":\"\"}},\"coloraxis\":{\"colorbar\":{\"outlinewidth\":0,\"ticks\":\"\"}},\"colorscale\":{\"sequential\":[[0.0,\"#0d0887\"],[0.1111111111111111,\"#46039f\"],[0.2222222222222222,\"#7201a8\"],[0.3333333333333333,\"#9c179e\"],[0.4444444444444444,\"#bd3786\"],[0.5555555555555556,\"#d8576b\"],[0.6666666666666666,\"#ed7953\"],[0.7777777777777778,\"#fb9f3a\"],[0.8888888888888888,\"#fdca26\"],[1.0,\"#f0f921\"]],\"sequentialminus\":[[0.0,\"#0d0887\"],[0.1111111111111111,\"#46039f\"],[0.2222222222222222,\"#7201a8\"],[0.3333333333333333,\"#9c179e\"],[0.4444444444444444,\"#bd3786\"],[0.5555555555555556,\"#d8576b\"],[0.6666666666666666,\"#ed7953\"],[0.7777777777777778,\"#fb9f3a\"],[0.8888888888888888,\"#fdca26\"],[1.0,\"#f0f921\"]],\"diverging\":[[0,\"#8e0152\"],[0.1,\"#c51b7d\"],[0.2,\"#de77ae\"],[0.3,\"#f1b6da\"],[0.4,\"#fde0ef\"],[0.5,\"#f7f7f7\"],[0.6,\"#e6f5d0\"],[0.7,\"#b8e186\"],[0.8,\"#7fbc41\"],[0.9,\"#4d9221\"],[1,\"#276419\"]]},\"xaxis\":{\"gridcolor\":\"white\",\"linecolor\":\"white\",\"ticks\":\"\",\"title\":{\"standoff\":15},\"zerolinecolor\":\"white\",\"automargin\":true,\"zerolinewidth\":2},\"yaxis\":{\"gridcolor\":\"white\",\"linecolor\":\"white\",\"ticks\":\"\",\"title\":{\"standoff\":15},\"zerolinecolor\":\"white\",\"automargin\":true,\"zerolinewidth\":2},\"scene\":{\"xaxis\":{\"backgroundcolor\":\"#E5ECF6\",\"gridcolor\":\"white\",\"linecolor\":\"white\",\"showbackground\":true,\"ticks\":\"\",\"zerolinecolor\":\"white\",\"gridwidth\":2},\"yaxis\":{\"backgroundcolor\":\"#E5ECF6\",\"gridcolor\":\"white\",\"linecolor\":\"white\",\"showbackground\":true,\"ticks\":\"\",\"zerolinecolor\":\"white\",\"gridwidth\":2},\"zaxis\":{\"backgroundcolor\":\"#E5ECF6\",\"gridcolor\":\"white\",\"linecolor\":\"white\",\"showbackground\":true,\"ticks\":\"\",\"zerolinecolor\":\"white\",\"gridwidth\":2}},\"shapedefaults\":{\"line\":{\"color\":\"#2a3f5f\"}},\"annotationdefaults\":{\"arrowcolor\":\"#2a3f5f\",\"arrowhead\":0,\"arrowwidth\":1},\"geo\":{\"bgcolor\":\"white\",\"landcolor\":\"#E5ECF6\",\"subunitcolor\":\"white\",\"showland\":true,\"showlakes\":true,\"lakecolor\":\"white\"},\"title\":{\"x\":0.05},\"mapbox\":{\"style\":\"light\"}}}},                        {\"responsive\": true}                    ).then(function(){\n",
              "                            \n",
              "var gd = document.getElementById('963201e6-d523-402b-85c0-982224abf8fd');\n",
              "var x = new MutationObserver(function (mutations, observer) {{\n",
              "        var display = window.getComputedStyle(gd).display;\n",
              "        if (!display || display === 'none') {{\n",
              "            console.log([gd, 'removed!']);\n",
              "            Plotly.purge(gd);\n",
              "            observer.disconnect();\n",
              "        }}\n",
              "}});\n",
              "\n",
              "// Listen for the removal of the full notebook cells\n",
              "var notebookContainer = gd.closest('#notebook-container');\n",
              "if (notebookContainer) {{\n",
              "    x.observe(notebookContainer, {childList: true});\n",
              "}}\n",
              "\n",
              "// Listen for the clearing of the current output cell\n",
              "var outputEl = gd.closest('.output');\n",
              "if (outputEl) {{\n",
              "    x.observe(outputEl, {childList: true});\n",
              "}}\n",
              "\n",
              "                        })                };                            </script>        </div>\n",
              "</body>\n",
              "</html>"
            ]
          },
          "metadata": {}
        }
      ]
    }
  ]
}